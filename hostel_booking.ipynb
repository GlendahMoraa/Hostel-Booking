{
 "cells": [
  {
   "cell_type": "markdown",
   "metadata": {},
   "source": [
    "# **HOTEL BOOKING**\n"
   ]
  },
  {
   "cell_type": "markdown",
   "metadata": {},
   "source": [
    "# PROBLEM STATEMENT\n",
    "In this project we will be working on a Data Science process that will enable us give insights to the Online Booking Orders to help Management review the current performance of the Business in order to make strategic decisions.\n",
    "\n",
    "## ANALYSIS QUESTIONS\n",
    "### Objective 1: Which are the top destinations for customers?\n",
    "1.\tWhich are the top 3 most frequently used hotels in a country and 5 less frequent hotels\n",
    "2.\tWhich are 3 top destinations for customers both countries and cities\n",
    "3.\tAre the top 3 hotel located in top destination countries?\n",
    "\n",
    "### Objective 2: To provide insights on Top Countries Customers prefer to visit.\n",
    "4.\twhich counties have highest and lowest hotel ratings\n",
    "5.\twhich are the payment methods that’s are used in the top 5 countries where Customers who prefer to visit?\n",
    "6.\tWhich countries that profit margin\n",
    "7.\tWhich countries give more discount\n",
    "8. \tWhich countries charge high and low tax?\n",
    "\n",
    "### Objective 3: To evaluate customer profile and demographics?\n",
    "9.\tCalculate the maximum, minimum and average number of days’ customers stay in a given hotel\n",
    "10.\tWhich is the most used payment method?\n",
    "11.\tWhich top 2 countries do most customers come from?\n",
    "12.\tWhich states provide many customers?\n",
    "13.\tWhere are many customers located?\n",
    "14.\tWhich gender love travelling?\n",
    "15.\tWhich age group are most travelers\n",
    "16.\tWhich destination country do the most traveling age group travel to?"
   ]
  },
  {
   "cell_type": "markdown",
   "metadata": {},
   "source": [
    "# IMPORTING LIBRARIES"
   ]
  },
  {
   "cell_type": "code",
   "execution_count": 2,
   "metadata": {},
   "outputs": [],
   "source": [
    "# Importing pandas\n",
    "\n",
    "import pandas as pd\n",
    "\n",
    "# Importing Numpy\n",
    "\n",
    "import numpy as np\n",
    "\n",
    "\n",
    "import matplotlib.pyplot as plt"
   ]
  },
  {
   "cell_type": "markdown",
   "metadata": {},
   "source": [
    "# DATA UNDERSTADING"
   ]
  },
  {
   "cell_type": "code",
   "execution_count": 3,
   "metadata": {},
   "outputs": [],
   "source": [
    "# Reading the dataset\n",
    "df = pd.read_excel('Hostel Booking Challenge_FestMan.xlsx', engine='openpyxl')"
   ]
  },
  {
   "cell_type": "code",
   "execution_count": 4,
   "metadata": {},
   "outputs": [
    {
     "name": "stdout",
     "output_type": "stream",
     "text": [
      "  Booking ID Date of Booking  Year      Time Customer ID  Gender  Age  \\\n",
      "0  DDMY00001      2010-01-01  2010  10:49:40     MY00001    Male   42   \n",
      "1  DDID00002      2010-01-01  2010  09:19:47     ID00001  Female   44   \n",
      "2  DDSG00003      2010-01-01  2010  11:52:56     SG00001  Female   31   \n",
      "3  DDSG00004      2010-01-01  2010  13:44:40     SG00002    Male   28   \n",
      "4  DDKH00005      2010-01-01  2010  05:38:26     KH00001    Male   44   \n",
      "5  DDTH00006      2010-01-01  2010  05:41:55     TH00001    Male   32   \n",
      "6  DDTH00007      2010-01-01  2010  20:14:21     TH00002    Male   49   \n",
      "7  DDMY00008      2010-01-01  2010  00:22:07     MY00002  Female   58   \n",
      "8  DDSG00009      2010-01-01  2010  09:30:32     SG00003    Male   57   \n",
      "9  DDSG00010      2010-01-01  2010  16:22:39     SG00004  Female   41   \n",
      "\n",
      "  Origin Country        State         Location  ...          Hotel Name  \\\n",
      "0       Malaysia        Johor  Iskandar Puteri  ...        Hotel Triton   \n",
      "1      Indonesia        Ciawi        West Java  ...      Enchanted Isle   \n",
      "2      Singapore      Central           Rochor  ...      Seacoast Hotel   \n",
      "3      Singapore        North           Yishun  ...   Night In Paradise   \n",
      "4       Cambodia   Phnom Trop           Pursat  ...     Tiny Digs Hotel   \n",
      "5       Thailand   Chiang Mai       Chiang Mai  ...            Seascape   \n",
      "6       Thailand  Surat Thani      Surat Thani  ...     Waldorf Astoria   \n",
      "7       Malaysia      Sarawak          Kuching  ...  The Westgate Hotel   \n",
      "8      Singapore        North           Mandai  ...       Firefly Motel   \n",
      "9      Singapore         West           Tengah  ...          Cape Grace   \n",
      "\n",
      "  Hotel Rating      Payment Mode                   Bank Name  No. Of Days.1  \\\n",
      "0          4.3            Wallet  United Overseas Bank (UOB)              8   \n",
      "1          4.2            Wallet                     EZ-Link              1   \n",
      "2          4.5       Credit Card                        Grab              7   \n",
      "3          4.2        Debit Card                  DBS Paylah              4   \n",
      "4          4.6            Wallet     Bank of Singapore (BOS)              3   \n",
      "5          4.5  Internet Banking  United Overseas Bank (UOB)              1   \n",
      "6          4.6        Debit Card                        HSBC              3   \n",
      "7          4.1            Wallet                        Cash              1   \n",
      "8          4.4               COD                     EZ-Link              3   \n",
      "9          4.7       Credit Card                        Grab              2   \n",
      "\n",
      "  Rooms.1  Booking Price[SGD] Discount   GST Profit Margin  \n",
      "0       1                 243     0.01  0.07          0.25  \n",
      "1       2                 312     0.00  0.07          0.24  \n",
      "2       2                 338     0.19  0.07          0.20  \n",
      "3       2                 254     0.19  0.07          0.13  \n",
      "4       3                 313     0.15  0.07          0.17  \n",
      "5       1                 161     0.01  0.07          0.15  \n",
      "6       2                 313     0.10  0.07          0.17  \n",
      "7       2                 121     0.05  0.07          0.15  \n",
      "8       2                 173     0.20  0.07          0.22  \n",
      "9       2                 309     0.16  0.07          0.25  \n",
      "\n",
      "[10 rows x 27 columns]\n",
      "      Booking ID Date of Booking  Year      Time Customer ID  Gender  Age  \\\n",
      "66525  DDVN66526      2019-12-31  2019  15:27:30     VN05957    Male   52   \n",
      "66526  DDID66527      2019-12-31  2019  04:18:40     ID11986  Female   30   \n",
      "66527  DDMY66528      2019-12-31  2019  17:53:01     MY12048    Male   46   \n",
      "66528  DDVN66529      2019-12-31  2019  04:31:42     VN05958  Female   19   \n",
      "66529  DDMY66530      2019-12-31  2019  04:15:03     MY12049    Male   46   \n",
      "66530  DDSG66531      2019-12-31  2019  23:36:16     SG12034  Female   42   \n",
      "66531  DDSG66532      2019-12-31  2019  14:41:01     SG12035  Female   54   \n",
      "66532  DDSG66533      2019-12-31  2019  19:11:16     SG12036  Female   57   \n",
      "66533  DDTH66534      2019-12-31  2019  05:12:29     TH12170  Female   44   \n",
      "66534  DDVN66535      2019-12-31  2019  00:51:52     VN05959  Female   52   \n",
      "\n",
      "      Origin Country        State       Location  ...             Hotel Name  \\\n",
      "66525        Vietnam   Phan Thiet     Binh Thuan  ...          Slumber Falls   \n",
      "66526      Indonesia      Senayan        Jakarta  ...            Creek Quest   \n",
      "66527       Malaysia        Kedah     Alor Setar  ...           Hotel Triton   \n",
      "66528        Vietnam     Dien Ban      Quang Nam  ...  The Hot Springs Hotel   \n",
      "66529       Malaysia        Johor    Johor Bahru  ...          Hotel The Pie   \n",
      "66530      Singapore      Central        Orchard  ...       Silver Cloud Inn   \n",
      "66531      Singapore      Central        Geylang  ...               The Elet   \n",
      "66532      Singapore      Central  Downtown Core  ...               The Elet   \n",
      "66533       Thailand  Surat Thani       Ko Samui  ...           Sunset Lodge   \n",
      "66534        Vietnam       Pleiku        Gia Lai  ...      Coastal bay hotel   \n",
      "\n",
      "      Hotel Rating      Payment Mode                Bank Name  No. Of Days.1  \\\n",
      "66525          3.8        Debit Card                     Grab              1   \n",
      "66526          3.8               COD               DBS Paylah              1   \n",
      "66527          4.1       Credit Card                     HSBC              3   \n",
      "66528          3.8  Internet Banking  Bank of Singapore (BOS)              1   \n",
      "66529          4.2        Debit Card                 DBS Bank              1   \n",
      "66530          4.3            Wallet                     Grab              4   \n",
      "66531          4.2               COD               DBS Paylah              4   \n",
      "66532          4.4        Debit Card                  EZ-Link              1   \n",
      "66533          4.2        Debit Card                     HSBC              1   \n",
      "66534          4.3  Internet Banking                     Grab              4   \n",
      "\n",
      "      Rooms.1  Booking Price[SGD] Discount   GST Profit Margin  \n",
      "66525       1                 115     0.07  0.07          0.25  \n",
      "66526       2                 120     0.00  0.07          0.22  \n",
      "66527       3                 159     0.14  0.07          0.22  \n",
      "66528       1                 116     0.14  0.07          0.22  \n",
      "66529       2                 181     0.15  0.07          0.10  \n",
      "66530       2                 182     0.23  0.07          0.24  \n",
      "66531       2                 125     0.06  0.07          0.19  \n",
      "66532       4                 318     0.02  0.07          0.22  \n",
      "66533       2                 173     0.14  0.07          0.25  \n",
      "66534       3                 182     0.17  0.07          0.24  \n",
      "\n",
      "[10 rows x 27 columns]\n"
     ]
    }
   ],
   "source": [
    "#Previewing the first 10 and last 10 records\n",
    "\n",
    "print(df.head(10))\n",
    "print(df.tail(10))"
   ]
  },
  {
   "cell_type": "code",
   "execution_count": 5,
   "metadata": {},
   "outputs": [
    {
     "name": "stdout",
     "output_type": "stream",
     "text": [
      "<class 'pandas.core.frame.DataFrame'>\n",
      "RangeIndex: 66535 entries, 0 to 66534\n",
      "Data columns (total 27 columns):\n",
      " #   Column               Non-Null Count  Dtype         \n",
      "---  ------               --------------  -----         \n",
      " 0   Booking ID           66535 non-null  object        \n",
      " 1   Date of Booking      66535 non-null  datetime64[ns]\n",
      " 2   Year                 66535 non-null  int64         \n",
      " 3   Time                 66535 non-null  object        \n",
      " 4   Customer ID          66535 non-null  object        \n",
      " 5   Gender               66535 non-null  object        \n",
      " 6   Age                  66535 non-null  int64         \n",
      " 7   Origin Country       66535 non-null  object        \n",
      " 8   State                66535 non-null  object        \n",
      " 9   Location             66535 non-null  object        \n",
      " 10  Destination Country  66535 non-null  object        \n",
      " 11  Destination City     66535 non-null  object        \n",
      " 12  No. Of People        66535 non-null  int64         \n",
      " 13  Check-in date        66535 non-null  datetime64[ns]\n",
      " 14  No. Of Days          66535 non-null  int64         \n",
      " 15  Check-Out Date       66535 non-null  datetime64[ns]\n",
      " 16  Rooms                66535 non-null  int64         \n",
      " 17  Hotel Name           66535 non-null  object        \n",
      " 18  Hotel Rating         66535 non-null  float64       \n",
      " 19  Payment Mode         66535 non-null  object        \n",
      " 20  Bank Name            66535 non-null  object        \n",
      " 21  No. Of Days.1        66535 non-null  int64         \n",
      " 22  Rooms.1              66535 non-null  int64         \n",
      " 23  Booking Price[SGD]   66535 non-null  int64         \n",
      " 24  Discount             66535 non-null  float64       \n",
      " 25  GST                  66535 non-null  float64       \n",
      " 26  Profit Margin        66535 non-null  float64       \n",
      "dtypes: datetime64[ns](3), float64(4), int64(8), object(12)\n",
      "memory usage: 13.7+ MB\n"
     ]
    },
    {
     "data": {
      "text/plain": [
       "(None, (66535, 27), 1796445)"
      ]
     },
     "execution_count": 5,
     "metadata": {},
     "output_type": "execute_result"
    }
   ],
   "source": [
    "#Checking info \n",
    "\n",
    "def data(a):\n",
    "    x = a.info()\n",
    "    y = a.shape\n",
    "    z = a.size\n",
    "    return x, y, z\n",
    "\n",
    "\n",
    "data(df)\n"
   ]
  },
  {
   "cell_type": "code",
   "execution_count": 6,
   "metadata": {},
   "outputs": [
    {
     "data": {
      "text/html": [
       "<div>\n",
       "<style scoped>\n",
       "    .dataframe tbody tr th:only-of-type {\n",
       "        vertical-align: middle;\n",
       "    }\n",
       "\n",
       "    .dataframe tbody tr th {\n",
       "        vertical-align: top;\n",
       "    }\n",
       "\n",
       "    .dataframe thead th {\n",
       "        text-align: right;\n",
       "    }\n",
       "</style>\n",
       "<table border=\"1\" class=\"dataframe\">\n",
       "  <thead>\n",
       "    <tr style=\"text-align: right;\">\n",
       "      <th></th>\n",
       "      <th>Year</th>\n",
       "      <th>Age</th>\n",
       "      <th>No. Of People</th>\n",
       "      <th>No. Of Days</th>\n",
       "      <th>Rooms</th>\n",
       "      <th>Hotel Rating</th>\n",
       "      <th>No. Of Days.1</th>\n",
       "      <th>Rooms.1</th>\n",
       "      <th>Booking Price[SGD]</th>\n",
       "      <th>Discount</th>\n",
       "      <th>GST</th>\n",
       "      <th>Profit Margin</th>\n",
       "    </tr>\n",
       "  </thead>\n",
       "  <tbody>\n",
       "    <tr>\n",
       "      <th>count</th>\n",
       "      <td>66535.000000</td>\n",
       "      <td>66535.000000</td>\n",
       "      <td>66535.000000</td>\n",
       "      <td>66535.000000</td>\n",
       "      <td>66535.000000</td>\n",
       "      <td>66535.000000</td>\n",
       "      <td>66535.000000</td>\n",
       "      <td>66535.000000</td>\n",
       "      <td>66535.000000</td>\n",
       "      <td>66535.000000</td>\n",
       "      <td>6.653500e+04</td>\n",
       "      <td>66535.000000</td>\n",
       "    </tr>\n",
       "    <tr>\n",
       "      <th>mean</th>\n",
       "      <td>2015.132396</td>\n",
       "      <td>38.436402</td>\n",
       "      <td>3.995852</td>\n",
       "      <td>3.233787</td>\n",
       "      <td>2.283400</td>\n",
       "      <td>4.288508</td>\n",
       "      <td>3.233787</td>\n",
       "      <td>2.283400</td>\n",
       "      <td>214.054212</td>\n",
       "      <td>0.125473</td>\n",
       "      <td>7.000000e-02</td>\n",
       "      <td>0.188815</td>\n",
       "    </tr>\n",
       "    <tr>\n",
       "      <th>std</th>\n",
       "      <td>2.885649</td>\n",
       "      <td>11.556566</td>\n",
       "      <td>2.000116</td>\n",
       "      <td>3.377939</td>\n",
       "      <td>1.031154</td>\n",
       "      <td>0.275520</td>\n",
       "      <td>3.377939</td>\n",
       "      <td>1.031154</td>\n",
       "      <td>108.127280</td>\n",
       "      <td>0.075115</td>\n",
       "      <td>4.163368e-17</td>\n",
       "      <td>0.052766</td>\n",
       "    </tr>\n",
       "    <tr>\n",
       "      <th>min</th>\n",
       "      <td>2010.000000</td>\n",
       "      <td>19.000000</td>\n",
       "      <td>1.000000</td>\n",
       "      <td>1.000000</td>\n",
       "      <td>1.000000</td>\n",
       "      <td>3.300000</td>\n",
       "      <td>1.000000</td>\n",
       "      <td>1.000000</td>\n",
       "      <td>35.000000</td>\n",
       "      <td>0.000000</td>\n",
       "      <td>7.000000e-02</td>\n",
       "      <td>0.100000</td>\n",
       "    </tr>\n",
       "    <tr>\n",
       "      <th>25%</th>\n",
       "      <td>2013.000000</td>\n",
       "      <td>28.000000</td>\n",
       "      <td>2.000000</td>\n",
       "      <td>1.000000</td>\n",
       "      <td>1.000000</td>\n",
       "      <td>4.200000</td>\n",
       "      <td>1.000000</td>\n",
       "      <td>1.000000</td>\n",
       "      <td>125.000000</td>\n",
       "      <td>0.060000</td>\n",
       "      <td>7.000000e-02</td>\n",
       "      <td>0.140000</td>\n",
       "    </tr>\n",
       "    <tr>\n",
       "      <th>50%</th>\n",
       "      <td>2015.000000</td>\n",
       "      <td>38.000000</td>\n",
       "      <td>4.000000</td>\n",
       "      <td>2.000000</td>\n",
       "      <td>2.000000</td>\n",
       "      <td>4.300000</td>\n",
       "      <td>2.000000</td>\n",
       "      <td>2.000000</td>\n",
       "      <td>199.000000</td>\n",
       "      <td>0.130000</td>\n",
       "      <td>7.000000e-02</td>\n",
       "      <td>0.200000</td>\n",
       "    </tr>\n",
       "    <tr>\n",
       "      <th>75%</th>\n",
       "      <td>2018.000000</td>\n",
       "      <td>48.000000</td>\n",
       "      <td>6.000000</td>\n",
       "      <td>4.000000</td>\n",
       "      <td>3.000000</td>\n",
       "      <td>4.500000</td>\n",
       "      <td>4.000000</td>\n",
       "      <td>3.000000</td>\n",
       "      <td>293.000000</td>\n",
       "      <td>0.190000</td>\n",
       "      <td>7.000000e-02</td>\n",
       "      <td>0.230000</td>\n",
       "    </tr>\n",
       "    <tr>\n",
       "      <th>max</th>\n",
       "      <td>2019.000000</td>\n",
       "      <td>58.000000</td>\n",
       "      <td>7.000000</td>\n",
       "      <td>97.000000</td>\n",
       "      <td>4.000000</td>\n",
       "      <td>4.700000</td>\n",
       "      <td>97.000000</td>\n",
       "      <td>4.000000</td>\n",
       "      <td>578.000000</td>\n",
       "      <td>0.250000</td>\n",
       "      <td>7.000000e-02</td>\n",
       "      <td>0.300000</td>\n",
       "    </tr>\n",
       "  </tbody>\n",
       "</table>\n",
       "</div>"
      ],
      "text/plain": [
       "               Year           Age  No. Of People   No. Of Days         Rooms  \\\n",
       "count  66535.000000  66535.000000   66535.000000  66535.000000  66535.000000   \n",
       "mean    2015.132396     38.436402       3.995852      3.233787      2.283400   \n",
       "std        2.885649     11.556566       2.000116      3.377939      1.031154   \n",
       "min     2010.000000     19.000000       1.000000      1.000000      1.000000   \n",
       "25%     2013.000000     28.000000       2.000000      1.000000      1.000000   \n",
       "50%     2015.000000     38.000000       4.000000      2.000000      2.000000   \n",
       "75%     2018.000000     48.000000       6.000000      4.000000      3.000000   \n",
       "max     2019.000000     58.000000       7.000000     97.000000      4.000000   \n",
       "\n",
       "       Hotel Rating  No. Of Days.1       Rooms.1  Booking Price[SGD]  \\\n",
       "count  66535.000000   66535.000000  66535.000000        66535.000000   \n",
       "mean       4.288508       3.233787      2.283400          214.054212   \n",
       "std        0.275520       3.377939      1.031154          108.127280   \n",
       "min        3.300000       1.000000      1.000000           35.000000   \n",
       "25%        4.200000       1.000000      1.000000          125.000000   \n",
       "50%        4.300000       2.000000      2.000000          199.000000   \n",
       "75%        4.500000       4.000000      3.000000          293.000000   \n",
       "max        4.700000      97.000000      4.000000          578.000000   \n",
       "\n",
       "           Discount           GST  Profit Margin  \n",
       "count  66535.000000  6.653500e+04   66535.000000  \n",
       "mean       0.125473  7.000000e-02       0.188815  \n",
       "std        0.075115  4.163368e-17       0.052766  \n",
       "min        0.000000  7.000000e-02       0.100000  \n",
       "25%        0.060000  7.000000e-02       0.140000  \n",
       "50%        0.130000  7.000000e-02       0.200000  \n",
       "75%        0.190000  7.000000e-02       0.230000  \n",
       "max        0.250000  7.000000e-02       0.300000  "
      ]
     },
     "execution_count": 6,
     "metadata": {},
     "output_type": "execute_result"
    }
   ],
   "source": [
    "#Checking foe statistical summary\n",
    "df.describe()"
   ]
  },
  {
   "cell_type": "markdown",
   "metadata": {},
   "source": [
    "# DATA CLEANING"
   ]
  },
  {
   "cell_type": "markdown",
   "metadata": {},
   "source": [
    "## 1.1 DATA VALIDITY"
   ]
  },
  {
   "cell_type": "code",
   "execution_count": 7,
   "metadata": {},
   "outputs": [],
   "source": [
    "#droping repeated columns\n",
    "\n",
    "df.drop(columns=['No. Of Days.1', 'Rooms.1'], inplace=True)"
   ]
  },
  {
   "cell_type": "code",
   "execution_count": 8,
   "metadata": {},
   "outputs": [
    {
     "data": {
      "text/plain": [
       "Index(['Booking ID', 'Date of Booking', 'Year', 'Time', 'Customer ID',\n",
       "       'Gender', 'Age', 'Origin Country', 'State', 'Location',\n",
       "       'Destination Country', 'Destination City', 'No. Of People',\n",
       "       'Check-in date', 'No. Of Days', 'Check-Out Date', 'Rooms', 'Hotel Name',\n",
       "       'Hotel Rating', 'Payment Mode', 'Bank Name', 'Booking Price[SGD]',\n",
       "       'Discount', 'GST', 'Profit Margin'],\n",
       "      dtype='object')"
      ]
     },
     "execution_count": 8,
     "metadata": {},
     "output_type": "execute_result"
    }
   ],
   "source": [
    "df.columns"
   ]
  },
  {
   "cell_type": "markdown",
   "metadata": {},
   "source": [
    "## 1.2. ACCURACY"
   ]
  },
  {
   "cell_type": "code",
   "execution_count": 9,
   "metadata": {},
   "outputs": [
    {
     "data": {
      "image/png": "[encoded data removed]",
      "text/plain": [
       "<Figure size 1440x1440 with 12 Axes>"
      ]
     },
     "metadata": {
      "needs_background": "light"
     },
     "output_type": "display_data"
    }
   ],
   "source": [
    "#Checking for outliers\n",
    "df.plot(kind='box', subplots = True, layout=(2,6), sharex= False, sharey = False, figsize= (20,20))\n",
    "plt.show()"
   ]
  },
  {
   "cell_type": "code",
   "execution_count": 10,
   "metadata": {},
   "outputs": [
    {
     "data": {
      "text/plain": [
       "423"
      ]
     },
     "execution_count": 10,
     "metadata": {},
     "output_type": "execute_result"
    }
   ],
   "source": [
    "#dealing with outliers\n",
    "# No fo days column\n",
    "#Procedure1\n",
    "outliers=[]\n",
    "\n",
    "def detect_outlier(data_1):\n",
    "    \n",
    "    threshold=3\n",
    "    mean_1 = np.mean(data_1)\n",
    "    std_1 =np.std(data_1)\n",
    "    \n",
    "    for y in data_1:\n",
    "        z_score= (y - mean_1)/std_1 \n",
    "        if np.abs(z_score) > threshold:\n",
    "            outliers.append(y)\n",
    "    return outliers\n",
    "\n",
    "len(detect_outlier(df['No. Of Days']))\n"
   ]
  },
  {
   "cell_type": "code",
   "execution_count": 11,
   "metadata": {},
   "outputs": [
    {
     "data": {
      "text/html": [
       "<div>\n",
       "<style scoped>\n",
       "    .dataframe tbody tr th:only-of-type {\n",
       "        vertical-align: middle;\n",
       "    }\n",
       "\n",
       "    .dataframe tbody tr th {\n",
       "        vertical-align: top;\n",
       "    }\n",
       "\n",
       "    .dataframe thead th {\n",
       "        text-align: right;\n",
       "    }\n",
       "</style>\n",
       "<table border=\"1\" class=\"dataframe\">\n",
       "  <thead>\n",
       "    <tr style=\"text-align: right;\">\n",
       "      <th></th>\n",
       "      <th>Booking ID</th>\n",
       "      <th>Date of Booking</th>\n",
       "      <th>Year</th>\n",
       "      <th>Time</th>\n",
       "      <th>Customer ID</th>\n",
       "      <th>Gender</th>\n",
       "      <th>Age</th>\n",
       "      <th>Origin Country</th>\n",
       "      <th>State</th>\n",
       "      <th>Location</th>\n",
       "      <th>...</th>\n",
       "      <th>Hotel Name</th>\n",
       "      <th>Hotel Rating</th>\n",
       "      <th>Payment Mode</th>\n",
       "      <th>Bank Name</th>\n",
       "      <th>Booking Price[SGD]</th>\n",
       "      <th>Discount</th>\n",
       "      <th>GST</th>\n",
       "      <th>Profit Margin</th>\n",
       "      <th>Date_Diffrence</th>\n",
       "      <th>Comparison</th>\n",
       "    </tr>\n",
       "  </thead>\n",
       "  <tbody>\n",
       "  </tbody>\n",
       "</table>\n",
       "<p>0 rows × 27 columns</p>\n",
       "</div>"
      ],
      "text/plain": [
       "Empty DataFrame\n",
       "Columns: [Booking ID, Date of Booking, Year, Time, Customer ID, Gender, Age, Origin Country, State, Location, Destination Country, Destination City, No. Of People, Check-in date, No. Of Days, Check-Out Date, Rooms, Hotel Name, Hotel Rating, Payment Mode, Bank Name, Booking Price[SGD], Discount, GST, Profit Margin, Date_Diffrence, Comparison]\n",
       "Index: []\n",
       "\n",
       "[0 rows x 27 columns]"
      ]
     },
     "execution_count": 11,
     "metadata": {},
     "output_type": "execute_result"
    }
   ],
   "source": [
    "#Procedure 2\n",
    "#Verying if the data enter in no of days is correct \n",
    "\n",
    "#Changing data type for both Check out date and check in date\n",
    "df['Check-Out Date'] = pd.to_datetime(df['Check-Out Date'])\n",
    "df['Check-in date'] = pd.to_datetime(df['Check-in date'])\n",
    "\n",
    "#Create a column tp show the diffrence between check out date and check in date\n",
    "df['Date_Diffrence'] = df['Check-Out Date'] - df['Check-in date']\n",
    "\n",
    "#After finding the diffrence no we change the datatype ot the new column from tyme delta to string inoder to remove the days part \n",
    "df['Date_Diffrence'] = df['Date_Diffrence'].astype(str).str.replace('days', '')\n",
    "\n",
    "#After removing the days part now we can convert from string to numeric to fitt the No. Of Days column for comparison.\n",
    "df['Date_Diffrence'] = pd.to_numeric(df['Date_Diffrence'])\n",
    "\n",
    "# We then create anothe column to show if the number of days are the same as the diffrence we computed\n",
    "df['Comparison'] = np.where(df['No. Of Days'] == df['Date_Diffrence'], 1, 0) # 1(True) and 0(False)\n",
    "\n",
    "#Locate where comparison is 0 \n",
    "df.loc[df['Comparison'] == 0]\n",
    "\n",
    "#In this case there are no records where comaprison in 0 so meaning the data is acurate\n"
   ]
  },
  {
   "cell_type": "code",
   "execution_count": 12,
   "metadata": {},
   "outputs": [
    {
     "data": {
      "text/plain": [
       "1296"
      ]
     },
     "execution_count": 12,
     "metadata": {},
     "output_type": "execute_result"
    }
   ],
   "source": [
    "#Hotel rating column\n",
    "outliers=[]\n",
    "\n",
    "len(detect_outlier(df['Hotel Rating']))"
   ]
  },
  {
   "cell_type": "code",
   "execution_count": 13,
   "metadata": {},
   "outputs": [
    {
     "data": {
      "text/plain": [
       "16"
      ]
     },
     "execution_count": 13,
     "metadata": {},
     "output_type": "execute_result"
    }
   ],
   "source": [
    "#Booking price column\n",
    "outliers=[]\n",
    "\n",
    "len(detect_outlier(df['Booking Price[SGD]']))"
   ]
  },
  {
   "cell_type": "markdown",
   "metadata": {},
   "source": [
    "## 1.3. COMPLETENESS"
   ]
  },
  {
   "cell_type": "code",
   "execution_count": 14,
   "metadata": {},
   "outputs": [
    {
     "data": {
      "text/plain": [
       "Booking ID             0\n",
       "Date of Booking        0\n",
       "Year                   0\n",
       "Time                   0\n",
       "Customer ID            0\n",
       "Gender                 0\n",
       "Age                    0\n",
       "Origin Country         0\n",
       "State                  0\n",
       "Location               0\n",
       "Destination Country    0\n",
       "Destination City       0\n",
       "No. Of People          0\n",
       "Check-in date          0\n",
       "No. Of Days            0\n",
       "Check-Out Date         0\n",
       "Rooms                  0\n",
       "Hotel Name             0\n",
       "Hotel Rating           0\n",
       "Payment Mode           0\n",
       "Bank Name              0\n",
       "Booking Price[SGD]     0\n",
       "Discount               0\n",
       "GST                    0\n",
       "Profit Margin          0\n",
       "Date_Diffrence         0\n",
       "Comparison             0\n",
       "dtype: int64"
      ]
     },
     "execution_count": 14,
     "metadata": {},
     "output_type": "execute_result"
    }
   ],
   "source": [
    "#Checking for null values\n",
    "\n",
    "df.isnull().sum()\n",
    "\n",
    "#There are no null values"
   ]
  },
  {
   "cell_type": "markdown",
   "metadata": {},
   "source": [
    "## 1.4. CONSISTENCY"
   ]
  },
  {
   "cell_type": "code",
   "execution_count": 15,
   "metadata": {},
   "outputs": [
    {
     "data": {
      "text/plain": [
       "0"
      ]
     },
     "execution_count": 15,
     "metadata": {},
     "output_type": "execute_result"
    }
   ],
   "source": [
    "#Cheking for duplicates\n",
    "\n",
    "df.duplicated().sum()"
   ]
  },
  {
   "cell_type": "markdown",
   "metadata": {},
   "source": [
    "## 1.5 UNFORMITY"
   ]
  },
  {
   "cell_type": "code",
   "execution_count": 16,
   "metadata": {},
   "outputs": [
    {
     "data": {
      "text/plain": [
       "Index(['Booking_ID', 'Date_of_Booking', 'Year', 'Time', 'Customer_ID',\n",
       "       'Gender', 'Age', 'Origin_Country', 'State', 'Location',\n",
       "       'Destination_Country', 'Destination_City', 'No_Of_People',\n",
       "       'Check_in_date', 'No_Of_Days', 'Check_Out_Date', 'Rooms', 'Hotel_Name',\n",
       "       'Hotel_Rating', 'Payment_Mode', 'Bank_Name', 'Booking_Price[SGD]',\n",
       "       'Discount', 'GST', 'Profit_Margin', 'Date_Diffrence', 'Comparison'],\n",
       "      dtype='object')"
      ]
     },
     "execution_count": 16,
     "metadata": {},
     "output_type": "execute_result"
    }
   ],
   "source": [
    "df.columns = ['Booking_ID', 'Date_of_Booking', 'Year', 'Time', 'Customer_ID',\n",
    "       'Gender', 'Age', 'Origin_Country', 'State', 'Location',\n",
    "       'Destination_Country', 'Destination_City', 'No_Of_People',\n",
    "       'Check_in_date', 'No_Of_Days', 'Check_Out_Date', 'Rooms', 'Hotel_Name',\n",
    "       'Hotel_Rating', 'Payment_Mode', 'Bank_Name',\n",
    "       'Booking_Price[SGD]', 'Discount', 'GST', 'Profit_Margin', 'Date_Diffrence', 'Comparison']\n",
    "df.columns"
   ]
  },
  {
   "cell_type": "markdown",
   "metadata": {},
   "source": []
  },
  {
   "cell_type": "markdown",
   "metadata": {},
   "source": [
    "# ANALYSIS"
   ]
  },
  {
   "cell_type": "markdown",
   "metadata": {},
   "source": [
    "### Objective 1: To the top destinations for customers?"
   ]
  },
  {
   "cell_type": "code",
   "execution_count": 17,
   "metadata": {},
   "outputs": [
    {
     "name": "stdout",
     "output_type": "stream",
     "text": [
      "Top 3 most frequently used hotels: Hotel_Name\n",
      "Grand Hyatt       221\n",
      "Secret Mirage     146\n",
      "Enchanted Isle    146\n",
      "Name: Booking_ID, dtype: int64\n",
      "-----------------------------------------------\n",
      "Top 3 most frequently used hotels: Hotel_Name\n",
      "The Cottage Motel     73\n",
      "Simply Charmed B&B    75\n",
      "Star of Africa B&B    76\n",
      "Name: Booking_ID, dtype: int64\n"
     ]
    }
   ],
   "source": [
    "#1.\tWhich are the top 3 most frequently used hotels in a country and 3 less frequent hotels?\n",
    "hotels = df.groupby(['Hotel_Name'])['Booking_ID'].count()\n",
    "\n",
    "#The top 3 most frequently used hotels\n",
    "print(f\"Top 3 most frequently used hotels: {hotels.sort_values(ascending=False).head(3)}\")\n",
    "\n",
    "\n",
    "print('-----------------------------------------------')\n",
    "#The less frequent hotels\n",
    "print(f\"Top 3 most frequently used hotels: {hotels.sort_values(ascending=True).head(3)}\")"
   ]
  },
  {
   "cell_type": "code",
   "execution_count": 47,
   "metadata": {},
   "outputs": [
    {
     "data": {
      "text/html": [
       "<div>\n",
       "<style scoped>\n",
       "    .dataframe tbody tr th:only-of-type {\n",
       "        vertical-align: middle;\n",
       "    }\n",
       "\n",
       "    .dataframe tbody tr th {\n",
       "        vertical-align: top;\n",
       "    }\n",
       "\n",
       "    .dataframe thead th {\n",
       "        text-align: right;\n",
       "    }\n",
       "</style>\n",
       "<table border=\"1\" class=\"dataframe\">\n",
       "  <thead>\n",
       "    <tr style=\"text-align: right;\">\n",
       "      <th></th>\n",
       "      <th>Destination_Country</th>\n",
       "      <th>Hotel_Name</th>\n",
       "    </tr>\n",
       "  </thead>\n",
       "  <tbody>\n",
       "    <tr>\n",
       "      <th>0</th>\n",
       "      <td>Brazil</td>\n",
       "      <td>3241</td>\n",
       "    </tr>\n",
       "    <tr>\n",
       "      <th>1</th>\n",
       "      <td>Canada</td>\n",
       "      <td>3331</td>\n",
       "    </tr>\n",
       "    <tr>\n",
       "      <th>2</th>\n",
       "      <td>China</td>\n",
       "      <td>3391</td>\n",
       "    </tr>\n",
       "    <tr>\n",
       "      <th>3</th>\n",
       "      <td>Colombia</td>\n",
       "      <td>3408</td>\n",
       "    </tr>\n",
       "    <tr>\n",
       "      <th>4</th>\n",
       "      <td>Denmark</td>\n",
       "      <td>3375</td>\n",
       "    </tr>\n",
       "    <tr>\n",
       "      <th>5</th>\n",
       "      <td>Egypt</td>\n",
       "      <td>3422</td>\n",
       "    </tr>\n",
       "    <tr>\n",
       "      <th>6</th>\n",
       "      <td>France</td>\n",
       "      <td>3346</td>\n",
       "    </tr>\n",
       "    <tr>\n",
       "      <th>7</th>\n",
       "      <td>Germany</td>\n",
       "      <td>3300</td>\n",
       "    </tr>\n",
       "    <tr>\n",
       "      <th>8</th>\n",
       "      <td>Iceland</td>\n",
       "      <td>3344</td>\n",
       "    </tr>\n",
       "    <tr>\n",
       "      <th>9</th>\n",
       "      <td>India</td>\n",
       "      <td>3290</td>\n",
       "    </tr>\n",
       "    <tr>\n",
       "      <th>10</th>\n",
       "      <td>Iran</td>\n",
       "      <td>3172</td>\n",
       "    </tr>\n",
       "    <tr>\n",
       "      <th>11</th>\n",
       "      <td>Ireland</td>\n",
       "      <td>3316</td>\n",
       "    </tr>\n",
       "    <tr>\n",
       "      <th>12</th>\n",
       "      <td>Israel</td>\n",
       "      <td>3356</td>\n",
       "    </tr>\n",
       "    <tr>\n",
       "      <th>13</th>\n",
       "      <td>Italy</td>\n",
       "      <td>3340</td>\n",
       "    </tr>\n",
       "    <tr>\n",
       "      <th>14</th>\n",
       "      <td>Japan</td>\n",
       "      <td>3255</td>\n",
       "    </tr>\n",
       "    <tr>\n",
       "      <th>15</th>\n",
       "      <td>Kenya</td>\n",
       "      <td>3233</td>\n",
       "    </tr>\n",
       "    <tr>\n",
       "      <th>16</th>\n",
       "      <td>Maldives</td>\n",
       "      <td>3265</td>\n",
       "    </tr>\n",
       "    <tr>\n",
       "      <th>17</th>\n",
       "      <td>Mexico</td>\n",
       "      <td>3257</td>\n",
       "    </tr>\n",
       "    <tr>\n",
       "      <th>18</th>\n",
       "      <td>Nepal</td>\n",
       "      <td>3446</td>\n",
       "    </tr>\n",
       "    <tr>\n",
       "      <th>19</th>\n",
       "      <td>New Zealand</td>\n",
       "      <td>3447</td>\n",
       "    </tr>\n",
       "  </tbody>\n",
       "</table>\n",
       "</div>"
      ],
      "text/plain": [
       "   Destination_Country  Hotel_Name\n",
       "0               Brazil        3241\n",
       "1               Canada        3331\n",
       "2                China        3391\n",
       "3             Colombia        3408\n",
       "4              Denmark        3375\n",
       "5                Egypt        3422\n",
       "6               France        3346\n",
       "7              Germany        3300\n",
       "8              Iceland        3344\n",
       "9                India        3290\n",
       "10                Iran        3172\n",
       "11             Ireland        3316\n",
       "12              Israel        3356\n",
       "13               Italy        3340\n",
       "14               Japan        3255\n",
       "15               Kenya        3233\n",
       "16            Maldives        3265\n",
       "17              Mexico        3257\n",
       "18               Nepal        3446\n",
       "19         New Zealand        3447"
      ]
     },
     "execution_count": 47,
     "metadata": {},
     "output_type": "execute_result"
    }
   ],
   "source": []
  },
  {
   "cell_type": "code",
   "execution_count": null,
   "metadata": {},
   "outputs": [
    {
     "name": "stdout",
     "output_type": "stream",
     "text": [
      ">>>>>>COUNTRIES\n",
      "2 top destinations countries: Destination_Country\n",
      "New Zealand    3447\n",
      "Nepal          3446\n",
      "Name: Booking_ID, dtype: int64\n",
      "-------------------------------------------\n",
      "2 unpopula destinations countries: Destination_Country\n",
      "Iran     3172\n",
      "Kenya    3233\n",
      "Name: Booking_ID, dtype: int64\n",
      "-------------------------------------------\n",
      ">>>>>>>CITIES\n",
      "2 top destinations Cities: Destination_City\n",
      "Hamilton    1084\n",
      "Bello        646\n",
      "Name: Booking_ID, dtype: int64\n",
      "-------------------------------------------\n",
      "2 unpopular destinations Cities: Destination_City\n",
      "Curitiba    479\n",
      "Kobe        486\n",
      "Name: Booking_ID, dtype: int64\n"
     ]
    }
   ],
   "source": [
    "#2.\tWhich are 2 top destinations for customers both countries and cities 2 unpopular destination?\n",
    "\n",
    "#popular and unpopular destination countries \n",
    "print('>>>>>>COUNTRIES')\n",
    "destination_country =df.groupby(['Destination_Country'])['Booking_ID'].count()\n",
    "print(f'2 top destinations countries: {destination_country.sort_values(ascending=False).head(2)}')\n",
    "print('-------------------------------------------')\n",
    "print(f'2 unpopula destinations countries: {destination_country.sort_values(ascending=True).head(2)}')\n",
    "print('-------------------------------------------')\n",
    "#popular and unpopular destination cities\n",
    "print('>>>>>>>CITIES')\n",
    "\n",
    "destination_city =df.groupby(['Destination_City'])['Booking_ID'].count()\n",
    "print(f'2 top destinations Cities: {destination_city.sort_values(ascending=False).head(2)}')\n",
    "print('-------------------------------------------')\n",
    "print(f'2 unpopular destinations Cities: {destination_city.sort_values(ascending=True).head(2)}')\n"
   ]
  },
  {
   "cell_type": "code",
   "execution_count": null,
   "metadata": {},
   "outputs": [
    {
     "name": "stdout",
     "output_type": "stream",
     "text": [
      "Grand Hyatt ... belongs to the top destination counties\n",
      "Secret Mirage ... belongs to the top destination counties\n",
      "Enchanted Isle ... belongs to the top destination counties\n",
      "\n",
      ">>>>>> As a list\n",
      "['Grand Hyatt', 'Secret Mirage', 'Enchanted Isle']\n"
     ]
    }
   ],
   "source": [
    "#3.\tAre the top 5 hotel located in top destination countries?\n",
    "\n",
    "zeeland_nepal = df[(df['Destination_Country'] == 'New Zealand') | (df['Destination_Country'] == 'Nepal')]\n",
    "lst = zeeland_nepal['Hotel_Name'].unique()\n",
    "hotels = ['Grand Hyatt', 'Secret Mirage', 'Enchanted Isle']\n",
    "\n",
    "for item in hotels:\n",
    "    if item not in lst:\n",
    "        print(item + 'does not belong to the top destination counties')\n",
    "    else: \n",
    "        print(item + ' ... belongs to the top destination counties')\n",
    "\n",
    "#Alternatevely \n",
    "\n",
    "main_list = [item for item in hotels if item in lst]\n",
    "print('')\n",
    "print('>>>>>> As a list')\n",
    "print(main_list)\n"
   ]
  },
  {
   "cell_type": "code",
   "execution_count": null,
   "metadata": {},
   "outputs": [
    {
     "data": {
      "image/png": "[encoded data removed]",
      "text/plain": [
       "<Figure size 1296x576 with 1 Axes>"
      ]
     },
     "metadata": {
      "needs_background": "light"
     },
     "output_type": "display_data"
    }
   ],
   "source": [
    "c = ['#53868B', '#98F5FF', '#76EE00', '#3D59AB', '#FF6103', '#FF9912', '#ED9121']\n",
    "df.groupby('Destination_Country')['No_Of_People'].sum().sort_values(ascending=False).plot(kind='barh', color = c, figsize = (18,8))\n",
    "\n",
    "plt.xlabel('COUNTRY', labelpad=(16))\n",
    "plt.ylabel('NO OF PEOPLE', labelpad=(16))\n",
    "plt.title('NUMBEr OF COUSTOMERS WHO COME FROM A GICEN COUNTY')\n",
    "plt.show()"
   ]
  },
  {
   "cell_type": "markdown",
   "metadata": {},
   "source": [
    "### Objective 2: To provide insights on Top Countries Customers prefer to visit."
   ]
  },
  {
   "cell_type": "code",
   "execution_count": null,
   "metadata": {},
   "outputs": [
    {
     "name": "stdout",
     "output_type": "stream",
     "text": [
      "Minimum rarings is 3.3\n",
      "Maximum rating is 4.7\n",
      "------------------------------------------------------------\n",
      "The countries with the most lowest hotel ratings\n",
      "Ireland     51\n",
      "China       57\n",
      "Iceland     57\n",
      "Italy       57\n",
      "Maldives    57\n",
      "Name: Destination_Country, dtype: int64\n",
      "------------------------------------------------------------\n",
      "The countries with the most highest hotel ratings\n",
      "Egypt          98\n",
      "France         87\n",
      "New Zealand    73\n",
      "Iceland        72\n",
      "Canada         72\n",
      "Name: Destination_Country, dtype: int64\n"
     ]
    }
   ],
   "source": [
    "#4.\twhich 5 countries have the most highest and lowest hotel ratings\n",
    "print('Minimum rarings is', df['Hotel_Rating'].min())\n",
    "print('Maximum rating is', df['Hotel_Rating'].max())\n",
    "print('------------------------------------------------------------')\n",
    "\n",
    "min_ratings = df[df['Hotel_Rating'] == df['Hotel_Rating'].min()]\n",
    "print(\"The countries with the most lowest hotel ratings\")\n",
    "print(min_ratings['Destination_Country'].value_counts().sort_values(ascending=True).head(5))\n",
    "print('------------------------------------------------------------')\n",
    "\n",
    "max_ratings = df[df['Hotel_Rating'] == df['Hotel_Rating'].max()]\n",
    "print(\"The countries with the most highest hotel ratings\")\n",
    "print(max_ratings['Destination_Country'].value_counts().sort_values(ascending=False).head(5))\n"
   ]
  },
  {
   "cell_type": "code",
   "execution_count": 33,
   "metadata": {},
   "outputs": [
    {
     "data": {
      "image/png": "[encoded data removed]",
      "text/plain": [
       "<Figure size 720x432 with 1 Axes>"
      ]
     },
     "metadata": {
      "needs_background": "light"
     },
     "output_type": "display_data"
    }
   ],
   "source": [
    "#graph\n",
    "df.groupby(['Hotel_Rating'])['Booking_ID'].count().plot(kind = 'bar', color = ['r', 'b', 'y', 'g'], figsize = (10,6))\n",
    "plt.title('HOTEL RATINGS')\n",
    "plt.xlabel('HOTEL THAT WERE RATED')\n",
    "plt.ylabel('NUMBER OF HOTELS')\n",
    "plt.show()"
   ]
  },
  {
   "cell_type": "code",
   "execution_count": null,
   "metadata": {},
   "outputs": [
    {
     "name": "stdout",
     "output_type": "stream",
     "text": [
      "Popilar countries\n",
      "Destination_Country\n",
      "New Zealand    3447\n",
      "Nepal          3446\n",
      "Egypt          3422\n",
      "Colombia       3408\n",
      "China          3391\n",
      "Name: Booking_ID, dtype: int64\n",
      "*******************************************\n"
     ]
    },
    {
     "data": {
      "text/plain": [
       "Payment_Mode\n",
       "COD                 3401\n",
       "Credit Card         3449\n",
       "Debit Card          3436\n",
       "Internet Banking    3465\n",
       "Wallet              3363\n",
       "Name: Booking_ID, dtype: int64"
      ]
     },
     "execution_count": 58,
     "metadata": {},
     "output_type": "execute_result"
    }
   ],
   "source": [
    "#5.\twhich are the payment methods that’s are used in the top 5 countries where Customers who prefer to visit?\n",
    "print('Popilar countries')\n",
    "print(df.groupby(['Destination_Country'])['Booking_ID'].count().sort_values(ascending=False).head(5))\n",
    "\n",
    "print('*******************************************')\n",
    "mf = df[(df['Destination_Country'] == 'New Zealand') |(df['Destination_Country'] == 'Nepal') | (df['Destination_Country'] == 'Egypt') | (df['Destination_Country'] == 'Colombia') | (df['Destination_Country'] == 'China')]\n",
    "\n",
    "\n",
    "mf.groupby('Payment_Mode')['Booking_ID'].count()"
   ]
  },
  {
   "cell_type": "code",
   "execution_count": null,
   "metadata": {},
   "outputs": [
    {
     "name": "stdout",
     "output_type": "stream",
     "text": [
      "Country with the highest profit\n",
      "Destination_Country\n",
      "New Zealand    136193.11\n",
      "Name: Profit, dtype: float64\n",
      "\n",
      "The county with the lowest proft\n"
     ]
    },
    {
     "data": {
      "text/plain": [
       "Destination_Country\n",
       "Iran    124134.0\n",
       "Name: Profit, dtype: float64"
      ]
     },
     "execution_count": 28,
     "metadata": {},
     "output_type": "execute_result"
    }
   ],
   "source": [
    "#6.\tWhich country has the highest and lowest profit\n",
    "df['Profit'] = (df['Booking_Price[SGD]'] * df['Profit_Margin'])\n",
    "print('Country with the highest profit')\n",
    "print(df.groupby(['Destination_Country'])['Profit'].sum().sort_values(ascending = False).head(1))\n",
    "\n",
    "print('')\n",
    "print('The county with the lowest proft')\n",
    "df.groupby(['Destination_Country'])['Profit'].sum().sort_values(ascending = True).head(1)\n"
   ]
  },
  {
   "cell_type": "code",
   "execution_count": null,
   "metadata": {},
   "outputs": [],
   "source": []
  },
  {
   "cell_type": "code",
   "execution_count": null,
   "metadata": {},
   "outputs": [
    {
     "data": {
      "text/plain": [
       "Destination_Country\n",
       "Nepal       432.60\n",
       "China       432.52\n",
       "Colombia    432.48\n",
       "Name: Discount, dtype: float64"
      ]
     },
     "execution_count": 64,
     "metadata": {},
     "output_type": "execute_result"
    }
   ],
   "source": [
    "#7.\tWhich countries give more discount\n",
    "df['Total_Discount'] = df['Booking_Price[SGD]'] * df['Discount']\n",
    "df.groupby(['Destination_Country'])['Discount'].sum().sort_values(ascending = False).head(3)"
   ]
  },
  {
   "cell_type": "code",
   "execution_count": null,
   "metadata": {},
   "outputs": [
    {
     "name": "stdout",
     "output_type": "stream",
     "text": [
      "The country that recieves the highest tax is: \n",
      "Destination_Country\n",
      "New Zealand    51654.75\n",
      "Colombia       51388.75\n",
      "Name: Tax, dtype: float64\n",
      "The country that recieves the lowest tax is: \n"
     ]
    },
    {
     "data": {
      "text/plain": [
       "Destination_Country\n",
       "Iran     47663.63\n",
       "Japan    48019.93\n",
       "Name: Tax, dtype: float64"
      ]
     },
     "execution_count": 68,
     "metadata": {},
     "output_type": "execute_result"
    }
   ],
   "source": [
    "#8.\tWhich countries receive high and low tax from vistors?\n",
    "df['Tax'] = df['Booking_Price[SGD]'] * df['GST']\n",
    "print('The country that recieves the highest tax is: ')\n",
    "print(df.groupby('Destination_Country')['Tax'].sum().sort_values(ascending=False).head(2))\n",
    "\n",
    "print('The country that recieves the lowest tax is: ')\n",
    "df.groupby('Destination_Country')['Tax'].sum().sort_values(ascending=True).head(2)"
   ]
  },
  {
   "cell_type": "code",
   "execution_count": null,
   "metadata": {},
   "outputs": [],
   "source": []
  },
  {
   "cell_type": "code",
   "execution_count": null,
   "metadata": {},
   "outputs": [
    {
     "data": {
      "text/plain": [
       "Index(['Booking_ID', 'Date_of_Booking', 'Year', 'Time', 'Customer_ID',\n",
       "       'Gender', 'Age', 'Origin_Country', 'State', 'Location',\n",
       "       'Destination_Country', 'Destination_City', 'No_Of_People',\n",
       "       'Check_in_date', 'No_Of_Days', 'Check_Out_Date', 'Rooms', 'Hotel_Name',\n",
       "       'Hotel_Rating', 'Payment_Mode', 'Bank_Name', 'Booking_Price[SGD]',\n",
       "       'Discount', 'GST', 'Profit_Margin', 'Date_Diffrence', 'Comparison',\n",
       "       'Profit'],\n",
       "      dtype='object')"
      ]
     },
     "execution_count": 60,
     "metadata": {},
     "output_type": "execute_result"
    }
   ],
   "source": []
  },
  {
   "cell_type": "markdown",
   "metadata": {},
   "source": [
    "### Objective 3: To evaluate customer profile and demographics?"
   ]
  },
  {
   "cell_type": "code",
   "execution_count": null,
   "metadata": {},
   "outputs": [
    {
     "name": "stdout",
     "output_type": "stream",
     "text": [
      "1\n",
      "97\n",
      "3.233786728789359\n"
     ]
    }
   ],
   "source": [
    "#9.\tCalculate the maximum, minimum and average number of days’ customers stay in a given hotel\n",
    "print(df['No_Of_Days'].min())\n",
    "print(df['No_Of_Days'].max())\n",
    "print(df['No_Of_Days'].mean())"
   ]
  },
  {
   "cell_type": "code",
   "execution_count": null,
   "metadata": {},
   "outputs": [],
   "source": [
    "#10. Which is the most used payment method?\n",
    "\n",
    "df['Payment_Mode'].value_counts().head()"
   ]
  },
  {
   "cell_type": "code",
   "execution_count": null,
   "metadata": {},
   "outputs": [
    {
     "data": {
      "text/plain": [
       "Origin_Country\n",
       "Thailand    48776\n",
       "Malaysia    48485\n",
       "Name: No_Of_People, dtype: int64"
      ]
     },
     "execution_count": 40,
     "metadata": {},
     "output_type": "execute_result"
    }
   ],
   "source": [
    "#11. Which top 2 countries do most customers come from?\n",
    "df.groupby('Origin_Country')['No_Of_People'].sum().sort_values(ascending=False).head(2)"
   ]
  },
  {
   "cell_type": "code",
   "execution_count": 19,
   "metadata": {},
   "outputs": [
    {
     "data": {
      "image/png": "[encoded data removed]",
      "text/plain": [
       "<Figure size 1296x576 with 1 Axes>"
      ]
     },
     "metadata": {
      "needs_background": "light"
     },
     "output_type": "display_data"
    }
   ],
   "source": [
    "df.groupby('Origin_Country')['No_Of_People'].sum().plot(kind='bar', color = 'blue', figsize = (18,8))\n",
    "plt.xlabel('COUNTRY', labelpad=(16))\n",
    "plt.ylabel('NO OF PEOPLE', labelpad=(16))\n",
    "plt.title('NUMBER OF COUSTOMERS WHO COME FROM A GIVEN COUNTY')\n",
    "plt.show()"
   ]
  },
  {
   "cell_type": "code",
   "execution_count": null,
   "metadata": {},
   "outputs": [
    {
     "data": {
      "text/plain": [
       "State\n",
       "Central    4820\n",
       "West       2617\n",
       "Name: Customer_ID, dtype: int64"
      ]
     },
     "execution_count": 74,
     "metadata": {},
     "output_type": "execute_result"
    }
   ],
   "source": [
    "#12. Which states provide many customers?\n",
    "df.groupby('State')['Customer_ID'].count().sort_values(ascending=False).head(2)"
   ]
  },
  {
   "cell_type": "code",
   "execution_count": null,
   "metadata": {},
   "outputs": [
    {
     "data": {
      "text/plain": [
       "Location\n",
       "Jakarta      3519\n",
       "West Java    1521\n",
       "Papua        1458\n",
       "Kuching       984\n",
       "Ipoh          978\n",
       "Name: Customer_ID, dtype: int64"
      ]
     },
     "execution_count": 20,
     "metadata": {},
     "output_type": "execute_result"
    }
   ],
   "source": [
    "#13. Where are many customers located?\n",
    "df.groupby(['Location'])['Customer_ID'].count().sort_values(ascending = False).head()"
   ]
  },
  {
   "cell_type": "code",
   "execution_count": null,
   "metadata": {},
   "outputs": [
    {
     "data": {
      "text/plain": [
       "Gender\n",
       "Female    133740\n",
       "Male      132124\n",
       "Name: No_Of_People, dtype: int64"
      ]
     },
     "execution_count": 48,
     "metadata": {},
     "output_type": "execute_result"
    }
   ],
   "source": [
    "#14. Which gender love travelling?\n",
    "x =df.groupby('Gender')['No_Of_People'].sum()\n",
    "x"
   ]
  },
  {
   "cell_type": "code",
   "execution_count": null,
   "metadata": {},
   "outputs": [
    {
     "data": {
      "text/plain": [
       "Text(0.5, 1.0, 'COMPARISON BY GENDER')"
      ]
     },
     "execution_count": 51,
     "metadata": {},
     "output_type": "execute_result"
    },
    {
     "data": {
      "image/png": "[encoded data removed]",
      "text/plain": [
       "<Figure size 1152x720 with 1 Axes>"
      ]
     },
     "metadata": {},
     "output_type": "display_data"
    }
   ],
   "source": [
    "#14. Which gender love travelling?\n",
    "\n",
    "explode = ([0.2, 0])\n",
    "\n",
    "plot = x.plot.pie(y= 'No_Of_People', \n",
    "                                                                                                                      \n",
    "figsize=(16, 10), colors = ['y', 'g'], \n",
    "labels = ['Female', 'Male'],\n",
    "\n",
    "fontsize=15, explode=explode, autopct='%1.1f%%',counterclock=False, shadow=True)\n",
    "\n",
    "plt.title('COMPARISON BY GENDER', fontsize=28)"
   ]
  },
  {
   "cell_type": "code",
   "execution_count": null,
   "metadata": {},
   "outputs": [
    {
     "data": {
      "text/plain": [
       "Destination_Country\n",
       "Egypt          13862\n",
       "New Zealand    13811\n",
       "China          13628\n",
       "Nepal          13624\n",
       "Denmark        13561\n",
       "Name: No_Of_People, dtype: int64"
      ]
     },
     "execution_count": 23,
     "metadata": {},
     "output_type": "execute_result"
    }
   ],
   "source": [
    "#16. Which destination country do the most traveling age group travel to?\n",
    "\n",
    "df.groupby(['Destination_Country'])['No_Of_People'].sum().sort_values(ascending=False).head()"
   ]
  },
  {
   "cell_type": "code",
   "execution_count": null,
   "metadata": {},
   "outputs": [
    {
     "data": {
      "text/plain": [
       "Index(['Booking_ID', 'Date_of_Booking', 'Year', 'Time', 'Customer_ID',\n",
       "       'Gender', 'Age', 'Origin_Country', 'State', 'Location',\n",
       "       'Destination_Country', 'Destination_City', 'No_Of_People',\n",
       "       'Check_in_date', 'No_Of_Days', 'Check_Out_Date', 'Rooms', 'Hotel_Name',\n",
       "       'Hotel_Rating', 'Payment_Mode', 'Bank_Name', 'Booking_Price[SGD]',\n",
       "       'Discount', 'GST', 'Profit_Margin', 'Date_Diffrence', 'Comparison'],\n",
       "      dtype='object')"
      ]
     },
     "execution_count": 21,
     "metadata": {},
     "output_type": "execute_result"
    }
   ],
   "source": [
    "df.columns"
   ]
  },
  {
   "cell_type": "markdown",
   "metadata": {},
   "source": [
    "### Obejective 3: To observe the trend across the years"
   ]
  },
  {
   "cell_type": "code",
   "execution_count": null,
   "metadata": {},
   "outputs": [
    {
     "data": {
      "text/plain": [
       "Year\n",
       "2019    38006\n",
       "Name: No_Of_People, dtype: int64"
      ]
     },
     "execution_count": 43,
     "metadata": {},
     "output_type": "execute_result"
    }
   ],
   "source": [
    "#17. Which year had the highst number of vistors\n",
    "\n",
    "df.groupby('Year')['No_Of_People'].sum().sort_values(ascending=False).head(1)"
   ]
  },
  {
   "cell_type": "code",
   "execution_count": null,
   "metadata": {},
   "outputs": [
    {
     "data": {
      "text/plain": [
       "Year\n",
       "2010    19147\n",
       "Name: No_Of_People, dtype: int64"
      ]
     },
     "execution_count": 45,
     "metadata": {},
     "output_type": "execute_result"
    }
   ],
   "source": [
    "# 18. Which year had the  lowest number of vistors\n",
    "df.groupby('Year')['No_Of_People'].sum().sort_values(ascending=True).head(1)"
   ]
  },
  {
   "cell_type": "code",
   "execution_count": null,
   "metadata": {},
   "outputs": [
    {
     "data": {
      "image/png": "[encoded data removed]",
      "text/plain": [
       "<Figure size 1296x576 with 1 Axes>"
      ]
     },
     "metadata": {
      "needs_background": "light"
     },
     "output_type": "display_data"
    }
   ],
   "source": [
    "df.groupby('Year')['No_Of_People'].sum().plot(kind='line', color = 'red', figsize = (18,8))\n",
    "plt.xlabel('YEAR', labelpad=(16))\n",
    "plt.ylabel('NO OF PEOPLE', labelpad=(16))\n",
    "plt.title('NUMBER OF VISTORS WHO VISTED IN THE YEARS')\n",
    "plt.show()"
   ]
  }
 ],
 "metadata": {
  "interpreter": {
   "hash": "247ab06e135bb35fa78c5eff31b2a9a0050dcb5fb773c2631d2a29ac689eeccb"
  },
  "kernelspec": {
   "display_name": "Python 3.9.5 64-bit",
   "language": "python",
   "name": "python3"
  },
  "language_info": {
   "codemirror_mode": {
    "name": "ipython",
    "version": 3
   },
   "file_extension": ".py",
   "mimetype": "text/x-python",
   "name": "python",
   "nbconvert_exporter": "python",
   "pygments_lexer": "ipython3",
   "version": "3.9.5"
  },
  "orig_nbformat": 4
 },
 "nbformat": 4,
 "nbformat_minor": 2
}
